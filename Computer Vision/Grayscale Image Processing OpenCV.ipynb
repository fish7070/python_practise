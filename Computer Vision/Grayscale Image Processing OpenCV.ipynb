{
 "cells": [
  {
   "cell_type": "code",
   "execution_count": 4,
   "metadata": {},
   "outputs": [],
   "source": [
    "import numpy as np\n",
    "import matplotlib.pyplot as plt\n",
    "import cv2\n",
    "\n",
    "img = cv2.imread(r'D:\\py\\python\\Computer Vision\\Image\\albert-einstein_gray_modfed.jpg', cv2.IMREAD_GRAYSCALE);\n",
    "img[500:700, 500:600] = 255;\n",
    "cv2.imshow('Gray', img);\n",
    "cv2.waitKey(0);\n",
    "cv2.destroyAllWindows();\n",
    "cv2.imwrite(r'D:\\py\\python\\Computer Vision\\Image\\albert-einstein_gray_opencv.jpg', img);"
   ]
  }
 ],
 "metadata": {
  "kernelspec": {
   "display_name": "ComputerVision",
   "language": "python",
   "name": "python3"
  },
  "language_info": {
   "codemirror_mode": {
    "name": "ipython",
    "version": 3
   },
   "file_extension": ".py",
   "mimetype": "text/x-python",
   "name": "python",
   "nbconvert_exporter": "python",
   "pygments_lexer": "ipython3",
   "version": "3.10.8"
  },
  "orig_nbformat": 4,
  "vscode": {
   "interpreter": {
    "hash": "d91696c522ddeb59f6b31167c201cd1730810c755a04d103465ecbedc72a4989"
   }
  }
 },
 "nbformat": 4,
 "nbformat_minor": 2
}
