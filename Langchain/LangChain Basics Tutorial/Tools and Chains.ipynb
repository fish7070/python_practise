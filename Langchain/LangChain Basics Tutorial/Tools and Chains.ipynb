{
 "cells": [
  {
   "cell_type": "code",
   "execution_count": 8,
   "metadata": {},
   "outputs": [],
   "source": [
    "from langchain.prompts import PromptTemplate\n",
    "from langchain.llms import OpenAI\n",
    "from langchain.chains import LLMChain"
   ]
  },
  {
   "cell_type": "code",
   "execution_count": 25,
   "metadata": {},
   "outputs": [],
   "source": [
    "llm = OpenAI(model_name='text-davinci-003', \n",
    "             temperature=0, \n",
    "             max_tokens = 256)"
   ]
  },
  {
   "cell_type": "code",
   "execution_count": 10,
   "metadata": {},
   "outputs": [],
   "source": [
    "article = '''Coinbase, the second-largest crypto exchange by trading volume, released its Q4 2022 earnings on Tuesday, giving shareholders and market players alike an updated look into its financials. In response to the report, the company's shares are down modestly in early after-hours trading.In the fourth quarter of 2022, Coinbase generated $605 million in total revenue, down sharply from $2.49 billion in the year-ago quarter. Coinbase's top line was not enough to cover its expenses: The company lost $557 million in the three-month period on a GAAP basis (net income) worth -$2.46 per share, and an adjusted EBITDA deficit of $124 million.Wall Street expected Coinbase to report $581.2 million in revenue and earnings per share of -$2.44 with adjusted EBITDA of -$201.8 million driven by 8.4 million monthly transaction users (MTUs), according to data provided by Yahoo Finance.Before its Q4 earnings were released, Coinbase's stock had risen 86% year-to-date. Even with that rally, the value of Coinbase when measured on a per-share basis is still down significantly from its 52-week high of $206.79.That Coinbase beat revenue expectations is notable in that it came with declines in trading volume; Coinbase historically generated the bulk of its revenues from trading fees, making Q4 2022 notable. Consumer trading volumes fell from $26 billion in the third quarter of last year to $20 billion in Q4, while institutional volumes across the same timeframe fell from $133 billion to $125 billion.The overall crypto market capitalization fell about 64%, or $1.5 trillion during 2022, which resulted in Coinbase's total trading volumes and transaction revenues to fall 50% and 66% year-over-year, respectively, the company reported.As you would expect with declines in trading volume, trading revenue at Coinbase fell in Q4 compared to the third quarter of last year, dipping from $365.9 million to $322.1 million. (TechCrunch is comparing Coinbase's Q4 2022 results to Q3 2022 instead of Q4 2021, as the latter comparison would be less useful given how much the crypto market has changed in the last year; we're all aware that overall crypto activity has fallen from the final months of 2021.)There were bits of good news in the Coinbase report. While Coinbase's trading revenues were less than exuberant, the company's other revenues posted gains. What Coinbase calls its \"subscription and services revenue\" rose from $210.5 million in Q3 2022 to $282.8 million in Q4 of the same year, a gain of just over 34% in a single quarter.And even as the crypto industry faced a number of catastrophic events, including the Terra/LUNA and FTX collapses to name a few, there was still growth in other areas. The monthly active developers in crypto have more than doubled since 2020 to over 20,000, while major brands like Starbucks, Nike and Adidas have dived into the space alongside social media platforms like Instagram and Reddit.With big players getting into crypto, industry players are hoping this move results in greater adoption both for product use cases and trading volumes. Although there was a lot of movement from traditional retail markets and Web 2.0 businesses, trading volume for both consumer and institutional users fell quarter-over-quarter for Coinbase.Looking forward, it'll be interesting to see if these pieces pick back up and trading interest reemerges in 2023, or if platforms like Coinbase will have to keep looking elsewhere for revenue (like its subscription service) if users continue to shy away from the market.\n",
    "'''"
   ]
  },
  {
   "cell_type": "code",
   "execution_count": 11,
   "metadata": {},
   "outputs": [],
   "source": [
    "fact_extraction_prompt = PromptTemplate(\n",
    "    input_variables=[\"text_input\"],\n",
    "    template=\"Extract the key facts out of this text. Don't include opinions. Give each fact a number and keep them short sentences. :\\n\\n {text_input}\"\n",
    ")"
   ]
  },
  {
   "cell_type": "code",
   "execution_count": 12,
   "metadata": {},
   "outputs": [
    {
     "name": "stdout",
     "output_type": "stream",
     "text": [
      "\n",
      "1. Coinbase released its Q4 2022 earnings on Tuesday.\n",
      "2. Coinbase generated $605 million in total revenue in Q4 2022.\n",
      "3. Coinbase lost $557 million in the three-month period on a GAAP basis.\n",
      "4. Wall Street expected Coinbase to report $581.2 million in revenue.\n",
      "5. Coinbase's stock had risen 86% year-to-date before its Q4 earnings were released.\n",
      "6. Consumer trading volumes fell from $26 billion in Q3 2022 to $20 billion in Q4 2022.\n",
      "7. Institutional volumes across the same timeframe fell from $133 billion to $125 billion.\n",
      "8. The overall crypto market capitalization fell about 64%, or $1.5 trillion during 2022.\n",
      "9. Coinbase's total trading volumes and transaction revenues fell 50% and 66% year-over-year, respectively.\n",
      "10. Trading revenue at Coinbase fell from $365.9 million in Q3 2022 to $322.1 million in Q4 2022.\n",
      "11. Coinbase's \"subscription and services revenue\" rose from $210.5 million in Q3 2022 to $282.8 million in Q4 2022.\n",
      "12. Monthly active developers in crypto have more than doubled since\n"
     ]
    }
   ],
   "source": [
    "fact_extraction_chain = LLMChain(llm=llm, prompt=fact_extraction_prompt)\n",
    "\n",
    "facts = fact_extraction_chain.run(article)\n",
    "\n",
    "print(facts)"
   ]
  },
  {
   "cell_type": "code",
   "execution_count": 27,
   "metadata": {},
   "outputs": [],
   "source": [
    "investor_update_prompt = PromptTemplate(\n",
    "    input_variables=[\"facts\"],\n",
    "    template=\"You are a Goldman Sachs analyst. Take the following list of facts and use them to write a short paragrah for investors. Don't leave out key info:\\n\\n {facts}\"\n",
    ")"
   ]
  },
  {
   "cell_type": "code",
   "execution_count": 26,
   "metadata": {},
   "outputs": [
    {
     "name": "stdout",
     "output_type": "stream",
     "text": [
      " the start of 2022.\n",
      "\n",
      "Coinbase released its Q4 2022 earnings on Tuesday, reporting total revenue of $605 million, which was slightly above Wall Street's expectations of $581.2 million. Despite the positive revenue figure, Coinbase reported a GAAP loss of $557 million in the three-month period. Coinbase's stock had risen 86% year-to-date before its Q4 earnings were released. Consumer trading volumes fell from $26 billion in Q3 2022 to $20 billion in Q4 2022, while institutional volumes across the same timeframe fell from $133 billion to $125 billion. The overall crypto market capitalization fell about 64%, or $1.5 trillion during 2022, leading to a 50% and 66% year-over-year decline in Coinbase's total trading volumes and transaction revenues, respectively. Trading revenue at Coinbase fell from $365.9 million in Q3 2022 to $322.1 million in Q4 2022, while its \"subscription and services revenue\" rose from $210.5 million in Q3 2022 to $282.8 million in Q4 2022. Despite the overall decline in the crypto market, monthly active developers in crypto have more than doubled since the start of 2022.\n"
     ]
    },
    {
     "data": {
      "text/plain": [
       "1105"
      ]
     },
     "execution_count": 26,
     "metadata": {},
     "output_type": "execute_result"
    }
   ],
   "source": [
    "investor_update_chain = LLMChain(llm=llm, prompt=investor_update_prompt)\n",
    "\n",
    "investor_update = investor_update_chain.run(facts)\n",
    "\n",
    "print(investor_update)\n",
    "len(investor_update)"
   ]
  },
  {
   "cell_type": "code",
   "execution_count": 15,
   "metadata": {},
   "outputs": [],
   "source": [
    "triples_prompt = PromptTemplate(\n",
    "    input_variables=[\"facts\"],\n",
    "    template=\"Take the following list of facts and turn them into triples for a knowledge graph:\\n\\n {facts}\"\n",
    ")"
   ]
  },
  {
   "cell_type": "code",
   "execution_count": 16,
   "metadata": {},
   "outputs": [
    {
     "name": "stdout",
     "output_type": "stream",
     "text": [
      " the start of 2022.\n",
      "\n",
      "1. (Coinbase, released, Q4 2022 earnings)\n",
      "2. (Coinbase, generated, $605 million total revenue)\n",
      "3. (Coinbase, lost, $557 million GAAP basis)\n",
      "4. (Wall Street, expected, $581.2 million revenue)\n",
      "5. (Coinbase's stock, risen, 86% year-to-date)\n",
      "6. (Consumer trading volumes, fell, $26 billion Q3 2022)\n",
      "7. (Institutional volumes, fell, $133 billion)\n",
      "8. (Overall crypto market capitalization, fell, $1.5 trillion)\n",
      "9. (Coinbase's total trading volumes, fell, 50% year-over-year)\n",
      "10. (Coinbase's transaction revenues, fell, 66% year-over-year)\n",
      "11. (Trading revenue, fell, $365.9 million Q3 2022)\n",
      "12. (Coinbase's subscription and services revenue, rose, $210.5 million Q3 2022)\n",
      "13. (Monthly active developers in crypto, more than doubled, since start of 2022)\n"
     ]
    },
    {
     "data": {
      "text/plain": [
       "768"
      ]
     },
     "execution_count": 16,
     "metadata": {},
     "output_type": "execute_result"
    }
   ],
   "source": [
    "triples_chain = LLMChain(llm=llm, prompt=triples_prompt)\n",
    "\n",
    "triples = triples_chain.run(facts)\n",
    "\n",
    "print(triples)\n",
    "len(triples)"
   ]
  },
  {
   "cell_type": "code",
   "execution_count": 17,
   "metadata": {},
   "outputs": [],
   "source": [
    "from langchain.chains import SimpleSequentialChain\n",
    "\n",
    "full_chain = SimpleSequentialChain(chains=[fact_extraction_chain, investor_update_chain], verbose=True)"
   ]
  },
  {
   "cell_type": "code",
   "execution_count": 18,
   "metadata": {},
   "outputs": [
    {
     "name": "stdout",
     "output_type": "stream",
     "text": [
      "\n",
      "\n",
      "\u001b[1m> Entering new SimpleSequentialChain chain...\u001b[0m\n",
      "\u001b[36;1m\u001b[1;3m\n",
      "1. Coinbase released its Q4 2022 earnings on Tuesday.\n",
      "2. Coinbase generated $605 million in total revenue in Q4 2022.\n",
      "3. Coinbase lost $557 million in the three-month period on a GAAP basis.\n",
      "4. Wall Street expected Coinbase to report $581.2 million in revenue.\n",
      "5. Coinbase's stock had risen 86% year-to-date before its Q4 earnings were released.\n",
      "6. Consumer trading volumes fell from $26 billion in Q3 2022 to $20 billion in Q4 2022.\n",
      "7. Institutional volumes across the same timeframe fell from $133 billion to $125 billion.\n",
      "8. The overall crypto market capitalization fell about 64%, or $1.5 trillion during 2022.\n",
      "9. Coinbase's total trading volumes and transaction revenues fell 50% and 66% year-over-year, respectively.\n",
      "10. Trading revenue at Coinbase fell from $365.9 million in Q3 2022 to $322.1 million in Q4 2022.\n",
      "11. Coinbase's \"subscription and services revenue\" rose from $210.5 million in Q3 2022 to $282.8 million in Q4 2022.\n",
      "12. Monthly active developers in crypto have more than doubled since\u001b[0m\n",
      "\u001b[33;1m\u001b[1;3m the start of 2022.\n",
      "\n",
      "Coinbase released its Q4 2022 earnings on Tuesday, reporting total revenue of $605 million, which was slightly above Wall Street's expectations of $581.2 million. Despite the positive revenue figure, Coinbase reported a GAAP loss of $557 million in the three-month period. Coinbase's stock had risen 86% year-to-date before its Q4 earnings were released. Consumer trading volumes fell from $26 billion in Q3 2022 to $20 billion in Q4 2022, while institutional volumes across the same timeframe fell from $133 billion to $125 billion. The overall crypto market capitalization fell about 64%, or $1.5 trillion during 2022, leading to a 50% and 66% year-over-year decline in Coinbase's total trading volumes and transaction revenues, respectively. Trading revenue at Coinbase fell from $365.9 million in Q3 2022 to $322.1 million in Q4 2022, while its \"subscription and services revenue\" rose from $210.5 million in Q3 2022 to $282.8 million in Q4 2022. Despite the overall decline in the crypto market, monthly active developers in crypto have more than doubled since the start of 2022.\u001b[0m\n",
      "\n",
      "\u001b[1m> Finished chain.\u001b[0m\n"
     ]
    }
   ],
   "source": [
    "response = full_chain.run(article)"
   ]
  },
  {
   "cell_type": "code",
   "execution_count": 29,
   "metadata": {},
   "outputs": [],
   "source": [
    "from langchain.chains import PALChain"
   ]
  },
  {
   "cell_type": "code",
   "execution_count": 34,
   "metadata": {},
   "outputs": [],
   "source": [
    "llm = OpenAI(model_name='text-davinci-003', \n",
    "             temperature=0, \n",
    "             max_tokens=512)"
   ]
  },
  {
   "cell_type": "code",
   "execution_count": 35,
   "metadata": {},
   "outputs": [],
   "source": [
    "pal_chain = PALChain.from_math_prompt(llm, verbose=True)"
   ]
  },
  {
   "cell_type": "code",
   "execution_count": 36,
   "metadata": {},
   "outputs": [],
   "source": [
    "question = \"Jan has three times the number of pets as Marcia. Marcia has two more pets than Cindy. If Cindy has four pets, how many total pets do the three have?\"\n",
    "question_02= \"The cafeteria had 23 apples. If they used 20 for lunch and bought 6 more, how many apples do they have?\""
   ]
  },
  {
   "cell_type": "code",
   "execution_count": 37,
   "metadata": {},
   "outputs": [
    {
     "name": "stdout",
     "output_type": "stream",
     "text": [
      "\n",
      "\n",
      "\u001b[1m> Entering new PALChain chain...\u001b[0m\n",
      "\u001b[32;1m\u001b[1;3mdef solution():\n",
      "    \"\"\"The cafeteria had 23 apples. If they used 20 for lunch and bought 6 more, how many apples do they have?\"\"\"\n",
      "    apples_initial = 23\n",
      "    apples_used = 20\n",
      "    apples_bought = 6\n",
      "    apples_total = apples_initial + apples_bought - apples_used\n",
      "    result = apples_total\n",
      "    return result\u001b[0m\n",
      "\n",
      "\u001b[1m> Finished chain.\u001b[0m\n"
     ]
    },
    {
     "data": {
      "text/plain": [
       "'9'"
      ]
     },
     "execution_count": 37,
     "metadata": {},
     "output_type": "execute_result"
    }
   ],
   "source": [
    "pal_chain.run(question_02)"
   ]
  },
  {
   "cell_type": "code",
   "execution_count": 38,
   "metadata": {},
   "outputs": [],
   "source": [
    "from langchain import OpenAI\n",
    "\n",
    "from langchain.chains import APIChain\n",
    "\n",
    "from langchain.chains.api import open_meteo_docs\n"
   ]
  },
  {
   "cell_type": "code",
   "execution_count": 39,
   "metadata": {},
   "outputs": [],
   "source": [
    "llm = OpenAI(temperature=0, max_tokens=100)\n",
    "chain_new = APIChain.from_llm_and_api_docs(llm, open_meteo_docs.OPEN_METEO_DOCS, verbose=True)"
   ]
  },
  {
   "cell_type": "code",
   "execution_count": 40,
   "metadata": {},
   "outputs": [
    {
     "name": "stdout",
     "output_type": "stream",
     "text": [
      "\n",
      "\n",
      "\u001b[1m> Entering new APIChain chain...\u001b[0m\n",
      "\u001b[32;1m\u001b[1;3mhttps://api.open-meteo.com/v1/forecast?latitude=1.3&longitude=103.9&hourly=temperature_2m&current_weather=true&temperature_unit=celsius\u001b[0m\n",
      "\u001b[33;1m\u001b[1;3m{\"latitude\":1.375,\"longitude\":103.875,\"generationtime_ms\":0.15103816986083984,\"utc_offset_seconds\":0,\"timezone\":\"GMT\",\"timezone_abbreviation\":\"GMT\",\"elevation\":6.0,\"current_weather\":{\"temperature\":30.2,\"windspeed\":9.6,\"winddirection\":124.0,\"weathercode\":95,\"is_day\":1,\"time\":\"2023-04-26T08:00\"},\"hourly_units\":{\"time\":\"iso8601\",\"temperature_2m\":\"°C\"},\"hourly\":{\"time\":[\"2023-04-26T00:00\",\"2023-04-26T01:00\",\"2023-04-26T02:00\",\"2023-04-26T03:00\",\"2023-04-26T04:00\",\"2023-04-26T05:00\",\"2023-04-26T06:00\",\"2023-04-26T07:00\",\"2023-04-26T08:00\",\"2023-04-26T09:00\",\"2023-04-26T10:00\",\"2023-04-26T11:00\",\"2023-04-26T12:00\",\"2023-04-26T13:00\",\"2023-04-26T14:00\",\"2023-04-26T15:00\",\"2023-04-26T16:00\",\"2023-04-26T17:00\",\"2023-04-26T18:00\",\"2023-04-26T19:00\",\"2023-04-26T20:00\",\"2023-04-26T21:00\",\"2023-04-26T22:00\",\"2023-04-26T23:00\",\"2023-04-27T00:00\",\"2023-04-27T01:00\",\"2023-04-27T02:00\",\"2023-04-27T03:00\",\"2023-04-27T04:00\",\"2023-04-27T05:00\",\"2023-04-27T06:00\",\"2023-04-27T07:00\",\"2023-04-27T08:00\",\"2023-04-27T09:00\",\"2023-04-27T10:00\",\"2023-04-27T11:00\",\"2023-04-27T12:00\",\"2023-04-27T13:00\",\"2023-04-27T14:00\",\"2023-04-27T15:00\",\"2023-04-27T16:00\",\"2023-04-27T17:00\",\"2023-04-27T18:00\",\"2023-04-27T19:00\",\"2023-04-27T20:00\",\"2023-04-27T21:00\",\"2023-04-27T22:00\",\"2023-04-27T23:00\",\"2023-04-28T00:00\",\"2023-04-28T01:00\",\"2023-04-28T02:00\",\"2023-04-28T03:00\",\"2023-04-28T04:00\",\"2023-04-28T05:00\",\"2023-04-28T06:00\",\"2023-04-28T07:00\",\"2023-04-28T08:00\",\"2023-04-28T09:00\",\"2023-04-28T10:00\",\"2023-04-28T11:00\",\"2023-04-28T12:00\",\"2023-04-28T13:00\",\"2023-04-28T14:00\",\"2023-04-28T15:00\",\"2023-04-28T16:00\",\"2023-04-28T17:00\",\"2023-04-28T18:00\",\"2023-04-28T19:00\",\"2023-04-28T20:00\",\"2023-04-28T21:00\",\"2023-04-28T22:00\",\"2023-04-28T23:00\",\"2023-04-29T00:00\",\"2023-04-29T01:00\",\"2023-04-29T02:00\",\"2023-04-29T03:00\",\"2023-04-29T04:00\",\"2023-04-29T05:00\",\"2023-04-29T06:00\",\"2023-04-29T07:00\",\"2023-04-29T08:00\",\"2023-04-29T09:00\",\"2023-04-29T10:00\",\"2023-04-29T11:00\",\"2023-04-29T12:00\",\"2023-04-29T13:00\",\"2023-04-29T14:00\",\"2023-04-29T15:00\",\"2023-04-29T16:00\",\"2023-04-29T17:00\",\"2023-04-29T18:00\",\"2023-04-29T19:00\",\"2023-04-29T20:00\",\"2023-04-29T21:00\",\"2023-04-29T22:00\",\"2023-04-29T23:00\",\"2023-04-30T00:00\",\"2023-04-30T01:00\",\"2023-04-30T02:00\",\"2023-04-30T03:00\",\"2023-04-30T04:00\",\"2023-04-30T05:00\",\"2023-04-30T06:00\",\"2023-04-30T07:00\",\"2023-04-30T08:00\",\"2023-04-30T09:00\",\"2023-04-30T10:00\",\"2023-04-30T11:00\",\"2023-04-30T12:00\",\"2023-04-30T13:00\",\"2023-04-30T14:00\",\"2023-04-30T15:00\",\"2023-04-30T16:00\",\"2023-04-30T17:00\",\"2023-04-30T18:00\",\"2023-04-30T19:00\",\"2023-04-30T20:00\",\"2023-04-30T21:00\",\"2023-04-30T22:00\",\"2023-04-30T23:00\",\"2023-05-01T00:00\",\"2023-05-01T01:00\",\"2023-05-01T02:00\",\"2023-05-01T03:00\",\"2023-05-01T04:00\",\"2023-05-01T05:00\",\"2023-05-01T06:00\",\"2023-05-01T07:00\",\"2023-05-01T08:00\",\"2023-05-01T09:00\",\"2023-05-01T10:00\",\"2023-05-01T11:00\",\"2023-05-01T12:00\",\"2023-05-01T13:00\",\"2023-05-01T14:00\",\"2023-05-01T15:00\",\"2023-05-01T16:00\",\"2023-05-01T17:00\",\"2023-05-01T18:00\",\"2023-05-01T19:00\",\"2023-05-01T20:00\",\"2023-05-01T21:00\",\"2023-05-01T22:00\",\"2023-05-01T23:00\",\"2023-05-02T00:00\",\"2023-05-02T01:00\",\"2023-05-02T02:00\",\"2023-05-02T03:00\",\"2023-05-02T04:00\",\"2023-05-02T05:00\",\"2023-05-02T06:00\",\"2023-05-02T07:00\",\"2023-05-02T08:00\",\"2023-05-02T09:00\",\"2023-05-02T10:00\",\"2023-05-02T11:00\",\"2023-05-02T12:00\",\"2023-05-02T13:00\",\"2023-05-02T14:00\",\"2023-05-02T15:00\",\"2023-05-02T16:00\",\"2023-05-02T17:00\",\"2023-05-02T18:00\",\"2023-05-02T19:00\",\"2023-05-02T20:00\",\"2023-05-02T21:00\",\"2023-05-02T22:00\",\"2023-05-02T23:00\"],\"temperature_2m\":[26.5,27.7,29.0,30.1,31.1,31.4,31.7,30.8,30.2,29.4,29.2,28.8,28.2,27.8,27.6,27.4,27.1,26.9,26.6,26.4,26.3,26.2,26.0,26.0,26.4,27.8,29.0,30.1,30.9,31.3,31.8,31.6,30.3,30.3,29.9,29.2,28.7,28.4,28.0,27.7,27.3,27.1,26.8,26.6,26.4,26.2,26.1,26.1,26.6,28.0,29.5,30.7,31.5,31.9,32.1,32.1,31.8,31.6,31.1,30.6,29.7,28.8,28.1,27.8,27.5,27.3,27.2,27.0,26.8,26.7,26.6,26.6,27.2,28.7,29.7,30.2,31.0,31.8,32.0,31.8,31.2,30.3,29.6,28.9,28.1,27.6,27.2,26.8,26.6,26.5,26.3,26.2,26.1,26.0,26.1,26.2,26.7,27.5,28.7,30.0,30.8,31.5,32.0,31.9,31.4,30.6,30.1,29.6,28.9,28.5,28.1,27.7,27.4,27.3,27.1,27.0,26.9,26.9,26.8,26.8,27.2,28.1,29.2,30.5,30.8,30.9,31.0,31.1,31.1,30.9,30.5,29.8,29.0,28.5,28.2,27.8,27.5,27.3,27.0,26.8,26.5,26.3,26.2,26.2,26.7,27.8,29.3,31.0,31.9,32.7,33.1,32.9,32.2,31.3,30.7,30.2,29.4,28.9,28.4,27.8,27.5,27.3,27.1,26.8,26.6,26.5,26.5,26.6]}}\u001b[0m\n",
      "\n",
      "\u001b[1m> Finished chain.\u001b[0m\n"
     ]
    },
    {
     "data": {
      "text/plain": [
       "' The temperature right now in Bedok, Singapore is 30.2 degrees Celcius.'"
      ]
     },
     "execution_count": 40,
     "metadata": {},
     "output_type": "execute_result"
    }
   ],
   "source": [
    "chain_new.run('What is the temperature like right now in Bedok, Singapore in degrees Celcius?')"
   ]
  },
  {
   "cell_type": "code",
   "execution_count": 41,
   "metadata": {},
   "outputs": [
    {
     "name": "stdout",
     "output_type": "stream",
     "text": [
      "\n",
      "\n",
      "\u001b[1m> Entering new APIChain chain...\u001b[0m\n",
      "\u001b[32;1m\u001b[1;3mhttps://api.open-meteo.com/v1/forecast?latitude=1.3521&longitude=103.8198&current_weather=true&rain=true\u001b[0m\n",
      "\u001b[33;1m\u001b[1;3m{\"latitude\":1.375,\"longitude\":103.875,\"generationtime_ms\":0.09000301361083984,\"utc_offset_seconds\":0,\"timezone\":\"GMT\",\"timezone_abbreviation\":\"GMT\",\"elevation\":46.0,\"current_weather\":{\"temperature\":29.9,\"windspeed\":9.6,\"winddirection\":124.0,\"weathercode\":95,\"is_day\":1,\"time\":\"2023-04-26T08:00\"}}\u001b[0m\n",
      "\n",
      "\u001b[1m> Finished chain.\u001b[0m\n"
     ]
    },
    {
     "data": {
      "text/plain": [
       "' It is currently raining in Singapore, with a temperature of 29.9°C and a windspeed of 9.6 km/h.'"
      ]
     },
     "execution_count": 41,
     "metadata": {},
     "output_type": "execute_result"
    }
   ],
   "source": [
    "chain_new.run('Is it raining in Singapore?')"
   ]
  }
 ],
 "metadata": {
  "kernelspec": {
   "display_name": "mygpt",
   "language": "python",
   "name": "python3"
  },
  "language_info": {
   "codemirror_mode": {
    "name": "ipython",
    "version": 3
   },
   "file_extension": ".py",
   "mimetype": "text/x-python",
   "name": "python",
   "nbconvert_exporter": "python",
   "pygments_lexer": "ipython3",
   "version": "3.9.16"
  },
  "orig_nbformat": 4
 },
 "nbformat": 4,
 "nbformat_minor": 2
}
