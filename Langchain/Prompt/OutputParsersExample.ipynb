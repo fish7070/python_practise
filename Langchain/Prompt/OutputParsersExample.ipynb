{
 "cells": [
  {
   "cell_type": "code",
   "execution_count": 3,
   "metadata": {},
   "outputs": [],
   "source": [
    "import openai\n",
    "from langchain.output_parsers import *\n",
    "import json\n",
    "import os\n",
    "openai.api_key = os.getenv('OPENAI_API_KEY')"
   ]
  },
  {
   "cell_type": "code",
   "execution_count": 4,
   "metadata": {},
   "outputs": [],
   "source": [
    "def get_completion(prompt, model=\"gpt-3.5-turbo\"):\n",
    "    messages = [{\"role\" : \"user\", \"content\" : prompt}]\n",
    "    response = openai.ChatCompletion.create(\n",
    "        model=model,\n",
    "        messages=messages,\n",
    "        temperature=0,\n",
    "    )\n",
    "    return response.choices[0].message[\"content\"]"
   ]
  },
  {
   "cell_type": "code",
   "execution_count": 37,
   "metadata": {},
   "outputs": [],
   "source": [
    "lamp_review = [\n",
    "\"\"\"\n",
    "ID:01\n",
    "非常感謝賣家的環保杯，這款環保杯真的讓我印象深刻！質感非常好，設計獨特，而且攜帶方便。然而，我發現杯蓋的密封性能稍微有些問題，有時候會漏水。希望賣家能夠改進這個部分，讓更多人能夠無憂使用這款環保杯。\\\n",
    "\"\"\",\n",
    "\"\"\"\n",
    "ID:02\n",
    "這款環保杯的顏色和圖案真的很吸引人，我喜歡它的環保理念。不過，我在使用過程中發現杯身容易刮花，這讓我有些失望。建議賣家可以嘗試使用更耐磨的材質來提高產品的耐用性。\\\n",
    "\"\"\",\n",
    "\"\"\"\n",
    "ID:03\n",
    "賣家的環保杯不僅環保，而且保溫效果也非常好，使我能夠隨時享受熱飲。但是，我注意到杯子底部的防滑墊圈容易脫落，這對使用者來說是一個潛在的安全隱患。希望賣家能對這個部分進行改進，確保顧客的安全。\\\n",
    "\"\"\",\n",
    "\"\"\"\n",
    "ID:04\n",
    "我很喜歡這款環保杯的設計和材質，賣家的包裝也非常精美，環保杯質量很好，而且價格合理。我對賣家的快速發貨和親切態度表示讚賞。\\\n",
    "\"\"\",\n",
    "\"\"\"\n",
    "ID:05\n",
    "我非常喜歡這款環保杯的款式和顏色。然而，在使用過程中，我發現杯蓋的密封性能不佳，有時會造成漏水的情況。希望賣家能夠改善這個問題，以提供更好的使用體驗。\\\n",
    "\"\"\",\n",
    "\"\"\"\n",
    "ID:06\n",
    "賣家的環保杯設計時尚，環保理念讓我感到欣慰。但我注意到，杯子底部的防滑墊圈容易脫落，這讓使用時感到不夠穩定。建議賣家改善這個部分，以增加產品的穩定性。\\\n",
    "\"\"\",\n",
    "\"\"\"\n",
    "ID:07\n",
    "我很滿意這款環保杯的保溫效果和外觀設計。不過，在使用過程中，我發現手柄部分較為薄弱，容易出現斷裂情況。希望賣家能夠在未來的版本中加強手柄的結構，提高其耐用性。\\\n",
    "\"\"\",\n",
    "\"\"\"\n",
    "ID:08\n",
    "這款環保杯的質感和設計都讓我印象深刻。然而，我在使用時發現杯身容易刮花，影響了產品的美觀。希望賣家能夠采用更耐磨的材料，以提高產品的抗磨損性能。\\\n",
    "\"\"\",\n",
    "\"\"\"\n",
    "ID:09\n",
    "我對賣家的環保杯整體感覺良好\\\n",
    "\"\"\",\n",
    "\"\"\"\n",
    "ID:10\n",
    "這款環保杯真的讓我非常失望！杯蓋的密封性能簡直糟糕透了，導致我多次外出時滿包包都是水。賣家應該要改進這個問題，否則無法保證消費者的基本使用需求！\\\n",
    "\"\"\",\n",
    "\"\"\"\n",
    "ID:11\n",
    "我對這款環保杯的手柄質量非常不滿意，用了沒幾天就斷裂了，這讓我感到非常生氣。賣家應該要提高產品的耐用性，別再讓顧客購買到這種劣質產品！\\\n",
    "\"\"\",\n",
    "\"\"\"\n",
    "ID:12\n",
    "這款環保杯的抗刮損能力太差了！剛用了幾次就出現了明顯的刮痕，這讓我覺得我花錢買了一個次品。賣家應該要使用更耐磨的材質，提供消費者更高品質的產品。\\\n",
    "\"\"\"\n",
    "]"
   ]
  },
  {
   "cell_type": "code",
   "execution_count": 20,
   "metadata": {},
   "outputs": [],
   "source": [
    "prompt = f\"\"\"\n",
    "\n",
    "我的產品如何?\n",
    "\n",
    "\"\"\"\n",
    "response = get_completion(prompt)"
   ]
  },
  {
   "cell_type": "code",
   "execution_count": 21,
   "metadata": {},
   "outputs": [
    {
     "name": "stdout",
     "output_type": "stream",
     "text": [
      "很抱歉，我不知道您的產品是什麼，無法回答這個問題。請提供更多的資訊，讓我能夠幫助您。\n"
     ]
    }
   ],
   "source": [
    "print(response)"
   ]
  },
  {
   "cell_type": "code",
   "execution_count": 18,
   "metadata": {},
   "outputs": [],
   "source": [
    "prompt = f\"\"\"\n",
    "\n",
    "我的產品如何?\n",
    "\n",
    "{lamp_review}\n",
    "\"\"\"\n",
    "response = get_completion(prompt)"
   ]
  },
  {
   "cell_type": "code",
   "execution_count": 19,
   "metadata": {},
   "outputs": [
    {
     "name": "stdout",
     "output_type": "stream",
     "text": [
      "根據以上評論，您的產品有一些優點，例如環保理念、設計獨特、保溫效果好等，但也存在一些問題，如杯蓋密封性能不佳、杯身容易刮花、防滑墊圈容易脫落、手柄較為薄弱等。建議您針對這些問題進行改進，提高產品的品質和耐用性，以滿足消費者的需求和期望。同時，感謝您的顧客對產品的評論和反饋，這將有助於您更好地了解市場需求和改進產品。\n"
     ]
    }
   ],
   "source": [
    "print(response)"
   ]
  },
  {
   "cell_type": "code",
   "execution_count": 11,
   "metadata": {},
   "outputs": [],
   "source": [
    "prompt = f\"\"\"\n",
    "\n",
    "你是一個客服機器人，幫我總結成兩份報告，報告的內容是關於評論中客戶的心情以及關於評論中產品的缺陷，這份報告會提供給客服部門及產品設計部門。\n",
    "\n",
    "{lamp_review}\n",
    "\"\"\"\n",
    "response = get_completion(prompt)\n"
   ]
  },
  {
   "cell_type": "code",
   "execution_count": 12,
   "metadata": {},
   "outputs": [
    {
     "name": "stdout",
     "output_type": "stream",
     "text": [
      "關於客戶心情的報告：\n",
      "\n",
      "1. 客戶對環保杯的質感、設計和攜帶方便感到非常滿意，並對賣家的快速發貨和親切態度表示讚賞。\n",
      "2. 客戶對環保杯的顏色和圖案感到吸引，但發現杯身容易刮花，建議賣家使用更耐磨的材質來提高產品的耐用性。\n",
      "3. 客戶對環保杯的保溫效果和環保理念感到滿意，但注意到杯子底部的防滑墊圈容易脫落，希望賣家能改進這個部分，確保顧客的安全。\n",
      "4. 客戶對環保杯的款式和顏色感到非常喜歡，但發現杯蓋的密封性能不佳，希望賣家能改善這個問題，提供更好的使用體驗。\n",
      "5. 客戶對環保杯的設計和環保理念感到欣慰，但注意到杯子底部的防滑墊圈容易脫落，建議賣家改善這個部分，增加產品的穩定性。\n",
      "\n",
      "關於產品缺陷的報告：\n",
      "\n",
      "1. 客戶發現杯蓋的密封性能稍微有些問題，有時候會漏水，希望賣家能夠改進這個部分，讓更多人能夠無憂使用這款環保杯。\n",
      "2. 客戶注意到杯身容易刮花，建議賣家可以嘗試使用更耐磨的材質來提高產品的耐用性。\n",
      "3. 客戶注意到杯子底部的防滑墊圈容易脫落，這對使用者來說是一個潛在的安全隱患，希望賣家能對這個部分進行改進，確保顧客的安全。\n",
      "4. 客戶注意到手柄部分較為薄弱，容易出現斷裂情況，希望賣家能夠在未來的版本中加強手柄的結構，提高其耐用性。\n",
      "5. 客戶注意到環保杯的抗刮損能力太差，建議賣家使用更耐磨的材質，提供消費者更高品質的產品。\n"
     ]
    }
   ],
   "source": [
    "print(response)"
   ]
  },
  {
   "cell_type": "code",
   "execution_count": 15,
   "metadata": {},
   "outputs": [],
   "source": [
    "prompt = f\"\"\"\n",
    "\n",
    "-請一一看完這些評論後。 \\\n",
    "-你是一個分析評價的工作人員，將每一則評價分成客戶心情及產品缺陷。 \\\n",
    "-幫我總結客戶心情和產品缺陷產出兩份報告。 \\\n",
    "-第一份報告的內容是關於評論中客戶的心情，這份報告會提供給客服部門做參考。 \\\n",
    "-第二份報告的內容是關於評論中產品的缺陷，這份報告會提供給產品設計部門，以改善產品。 \\\n",
    "-每份報告 200 字。 \\\n",
    "\n",
    "客戶評論內容：'''{lamp_review}'''\n",
    "\"\"\"\n",
    "response = get_completion(prompt)"
   ]
  },
  {
   "cell_type": "code",
   "execution_count": 17,
   "metadata": {},
   "outputs": [
    {
     "name": "stdout",
     "output_type": "stream",
     "text": [
      "客戶心情報告：\n",
      "\n",
      "客戶對環保杯的整體印象非常好，認為質感好、設計獨特、攜帶方便，並且對賣家的快速發貨和親切態度表示讚賞。然而，客戶也提到了一些產品缺陷，如杯蓋的密封性能稍微有些問題、杯身容易刮花、杯子底部的防滑墊圈容易脫落、手柄部分較為薄弱容易斷裂等。這些問題讓客戶感到失望或不滿意，希望賣家能夠改進這些問題，提供更好的使用體驗。\n",
      "\n",
      "產品缺陷報告：\n",
      "\n",
      "根據客戶評論，環保杯的產品缺陷主要包括杯蓋的密封性能問題、杯身容易刮花、杯子底部的防滑墊圈容易脫落、手柄部分較為薄弱容易斷裂等。這些問題影響了產品的使用體驗和耐用性，需要賣家進行改進。建議賣家可以嘗試使用更耐磨的材質、加強手柄的結構、改善杯蓋的密封性能、確保杯子底部的防滑墊圈不易脫落等，以提高產品的品質和競爭力。\n"
     ]
    }
   ],
   "source": [
    "print(response)"
   ]
  },
  {
   "cell_type": "code",
   "execution_count": 38,
   "metadata": {},
   "outputs": [],
   "source": [
    "prompt = f\"\"\"\n",
    "\n",
    " After reviewing each comment, summarize the following items before moving on to the next comment.\n",
    "    -revirwer reviewID \"ID\"\n",
    "    -revirwer Customer's emotion \"customer mood\"\n",
    "    -revirwer Product flaws \"design\"\n",
    "\n",
    "    \n",
    "    \n",
    "    Each review is stored as an array in different positions.\\\n",
    "    If the information isn't present ,use \"unknown\"\\\n",
    "    as the value \n",
    "    make your response as 10 word as possible\n",
    "\n",
    "example：'''review: 1. ID:01\n",
    "                        非常感謝賣家的環保杯，這款環保杯真的讓我印象深刻！質感非常好，設計獨特，而且攜帶方便。然而，我發現杯蓋的密封性能稍微有些問題，有時候會漏水。希望賣家能夠改進這個部分，讓更多人能夠無憂使用這款環保杯。\n",
    "                    2. ID:02\n",
    "                        這款環保杯的顏色和圖案真的很吸引人，我喜歡它的環保理念。不過，我在使用過程中發現杯身容易刮花，這讓我有些失望。建議賣家可以嘗試使用更耐磨的材質來提高產品的耐用性。\\\n",
    "            output: [{{ \"ID\": \"01\", \"customer mood\": \"positive\",    \"design\": \"minor sealing and scratch issues\"}}, {{  \"ID\": \"02\" , \"customer mood\": \"positive\",   \"design\": \"scratch issues\"}}]'''\n",
    "\n",
    "            \n",
    "Each review format your response as a JSON object with \\\n",
    "    \"ID\" and \"customer mood\" and \"design\" as the key.\\\n",
    "    \n",
    "reviews texts :'''{lamp_review}'''\n",
    "\"\"\"\n",
    "response = get_completion(prompt)\n"
   ]
  },
  {
   "cell_type": "code",
   "execution_count": 39,
   "metadata": {},
   "outputs": [
    {
     "data": {
      "text/plain": [
       "'[{\"ID\": \"01\", \"customer mood\": \"positive\", \"design\": \"minor sealing and scratch issues\"}, {\"ID\": \"02\", \"customer mood\": \"positive\", \"design\": \"scratch issues\"}, {\"ID\": \"03\", \"customer mood\": \"unknown\", \"design\": \"slippery bottom pad\"}, {\"ID\": \"04\", \"customer mood\": \"positive\", \"design\": \"unknown\"}, {\"ID\": \"05\", \"customer mood\": \"unknown\", \"design\": \"poor sealing performance\"}, {\"ID\": \"06\", \"customer mood\": \"unknown\", \"design\": \"slippery bottom pad\"}, {\"ID\": \"07\", \"customer mood\": \"positive\", \"design\": \"weak handle structure\"}, {\"ID\": \"08\", \"customer mood\": \"unknown\", \"design\": \"easily scratched body\"}, {\"ID\": \"09\", \"customer mood\": \"positive\", \"design\": \"unknown\"}, {\"ID\": \"10\", \"customer mood\": \"negative\", \"design\": \"poor sealing performance\"}, {\"ID\": \"11\", \"customer mood\": \"negative\", \"design\": \"weak handle quality\"}, {\"ID\": \"12\", \"customer mood\": \"unknown\", \"design\": \"poor scratch resistance\"}]'"
      ]
     },
     "execution_count": 39,
     "metadata": {},
     "output_type": "execute_result"
    }
   ],
   "source": [
    "response"
   ]
  },
  {
   "cell_type": "code",
   "execution_count": 40,
   "metadata": {},
   "outputs": [],
   "source": [
    "response = eval(response)\n",
    "customer_mood = []\n",
    "design = []\n",
    "review_len = len(response)\n",
    "\n",
    "for i in range(review_len):\n",
    "    customer_mood.append({\"ID\": response[i][\"ID\"], \"customer mood\": response[i][\"customer mood\"]})\n",
    "    design.append(response[i][\"design\"])\n"
   ]
  },
  {
   "cell_type": "code",
   "execution_count": 41,
   "metadata": {},
   "outputs": [
    {
     "data": {
      "text/plain": [
       "[{'ID': '01', 'customer mood': 'positive'},\n",
       " {'ID': '02', 'customer mood': 'positive'},\n",
       " {'ID': '03', 'customer mood': 'unknown'},\n",
       " {'ID': '04', 'customer mood': 'positive'},\n",
       " {'ID': '05', 'customer mood': 'unknown'},\n",
       " {'ID': '06', 'customer mood': 'unknown'},\n",
       " {'ID': '07', 'customer mood': 'positive'},\n",
       " {'ID': '08', 'customer mood': 'unknown'},\n",
       " {'ID': '09', 'customer mood': 'positive'},\n",
       " {'ID': '10', 'customer mood': 'negative'},\n",
       " {'ID': '11', 'customer mood': 'negative'},\n",
       " {'ID': '12', 'customer mood': 'unknown'}]"
      ]
     },
     "execution_count": 41,
     "metadata": {},
     "output_type": "execute_result"
    }
   ],
   "source": [
    "customer_mood"
   ]
  },
  {
   "cell_type": "code",
   "execution_count": 35,
   "metadata": {},
   "outputs": [
    {
     "name": "stdout",
     "output_type": "stream",
     "text": [
      "Areas for Improvement:\n",
      "\n",
      "1. Sealing Performance: The product has received multiple complaints regarding its sealing performance. Both minor and terrible sealing issues have been reported. This needs to be addressed to ensure customer satisfaction.\n",
      "\n",
      "2. Scratch Resistance: The product has been reported to have poor scratch resistance. This needs to be improved to ensure the product's longevity.\n",
      "\n",
      "3. Safety Hazard: There have been reports of potential safety hazards associated with the product. This needs to be investigated and addressed immediately.\n",
      "\n",
      "4. Handle Quality: The handle quality has been reported to be poor. The handle structure needs to be strengthened to ensure durability and safety.\n",
      "\n",
      "5. Wear Resistance: The product needs to be improved in terms of wear resistance to ensure its longevity.\n",
      "\n",
      "6. Stability: The product needs to be improved in terms of stability to ensure customer safety and satisfaction.\n",
      "\n",
      "Overall, while the product has received positive feedback regarding its quality and price, there are several areas that need improvement to ensure customer satisfaction and safety.\n"
     ]
    }
   ],
   "source": [
    "\n",
    "prompt = f\"\"\"\n",
    "    You are a product design supervisor.\\\n",
    "    Please carefully read through the customer feedback provided for the product.\\\n",
    "    Create a document outlining the areas for improvement in this product.\\\n",
    "    Keep the document content concise, focusing on the flawed aspects of the product.\\\n",
    "\n",
    "\n",
    "review text :'''{design}'''\n",
    "\"\"\"\n",
    "response = get_completion(prompt)\n",
    "print(response)"
   ]
  },
  {
   "cell_type": "code",
   "execution_count": null,
   "metadata": {},
   "outputs": [],
   "source": []
  }
 ],
 "metadata": {
  "kernelspec": {
   "display_name": "mygpt",
   "language": "python",
   "name": "python3"
  },
  "language_info": {
   "codemirror_mode": {
    "name": "ipython",
    "version": 3
   },
   "file_extension": ".py",
   "mimetype": "text/x-python",
   "name": "python",
   "nbconvert_exporter": "python",
   "pygments_lexer": "ipython3",
   "version": "3.9.16"
  },
  "orig_nbformat": 4
 },
 "nbformat": 4,
 "nbformat_minor": 2
}
