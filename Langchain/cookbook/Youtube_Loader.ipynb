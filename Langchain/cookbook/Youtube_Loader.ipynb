{
 "cells": [
  {
   "cell_type": "code",
   "execution_count": 22,
   "metadata": {},
   "outputs": [],
   "source": [
    "from langchain.document_loaders import YoutubeLoader\n",
    "from langchain.llms import OpenAI\n",
    "from langchain.chains.summarize import load_summarize_chain\n",
    "import os\n"
   ]
  },
  {
   "cell_type": "code",
   "execution_count": 32,
   "metadata": {},
   "outputs": [],
   "source": [
    "OPENAI_API_KEY = os.getenv(\"OPENAI_API_KEY\")\n",
    "llm = OpenAI(temperature=0, openai_api_key=OPENAI_API_KEY)\n",
    "chain = load_summarize_chain(llm, chain_type=\"stuff\", verbose=False)"
   ]
  },
  {
   "cell_type": "code",
   "execution_count": 41,
   "metadata": {},
   "outputs": [],
   "source": [
    "loader = YoutubeLoader.from_youtube_url(\"https://www.youtube.com/watch?v=EEbWRjavSVw\", add_video_info=True, language=\"ja\")\n"
   ]
  },
  {
   "cell_type": "code",
   "execution_count": 42,
   "metadata": {},
   "outputs": [
    {
     "ename": "PytubeError",
     "evalue": "Exception while accessing title of https://youtube.com/watch?v=EEbWRjavSVw. Please file a bug report at https://github.com/pytube/pytube",
     "output_type": "error",
     "traceback": [
      "\u001b[1;31m---------------------------------------------------------------------------\u001b[0m",
      "\u001b[1;31mKeyError\u001b[0m                                  Traceback (most recent call last)",
      "File \u001b[1;32mc:\\Users\\fish\\anaconda3\\envs\\mygpt\\lib\\site-packages\\pytube\\__main__.py:341\u001b[0m, in \u001b[0;36mYouTube.title\u001b[1;34m(self)\u001b[0m\n\u001b[0;32m    340\u001b[0m \u001b[39mtry\u001b[39;00m:\n\u001b[1;32m--> 341\u001b[0m     \u001b[39mself\u001b[39m\u001b[39m.\u001b[39m_title \u001b[39m=\u001b[39m \u001b[39mself\u001b[39;49m\u001b[39m.\u001b[39;49mvid_info[\u001b[39m'\u001b[39;49m\u001b[39mvideoDetails\u001b[39;49m\u001b[39m'\u001b[39;49m][\u001b[39m'\u001b[39m\u001b[39mtitle\u001b[39m\u001b[39m'\u001b[39m]\n\u001b[0;32m    342\u001b[0m \u001b[39mexcept\u001b[39;00m \u001b[39mKeyError\u001b[39;00m:\n\u001b[0;32m    343\u001b[0m     \u001b[39m# Check_availability will raise the correct exception in most cases\u001b[39;00m\n\u001b[0;32m    344\u001b[0m     \u001b[39m#  if it doesn't, ask for a report.\u001b[39;00m\n",
      "\u001b[1;31mKeyError\u001b[0m: 'videoDetails'",
      "\nDuring handling of the above exception, another exception occurred:\n",
      "\u001b[1;31mPytubeError\u001b[0m                               Traceback (most recent call last)",
      "Cell \u001b[1;32mIn[42], line 1\u001b[0m\n\u001b[1;32m----> 1\u001b[0m result \u001b[39m=\u001b[39m loader\u001b[39m.\u001b[39;49mload()\n\u001b[0;32m      2\u001b[0m \u001b[39mprint\u001b[39m (\u001b[39mf\u001b[39m\u001b[39m\"\u001b[39m\u001b[39mFound video from \u001b[39m\u001b[39m{\u001b[39;00mresult[\u001b[39m0\u001b[39m]\u001b[39m.\u001b[39mmetadata[\u001b[39m'\u001b[39m\u001b[39mauthor\u001b[39m\u001b[39m'\u001b[39m]\u001b[39m}\u001b[39;00m\u001b[39m that is \u001b[39m\u001b[39m{\u001b[39;00mresult[\u001b[39m0\u001b[39m]\u001b[39m.\u001b[39mmetadata[\u001b[39m'\u001b[39m\u001b[39mlength\u001b[39m\u001b[39m'\u001b[39m]\u001b[39m}\u001b[39;00m\u001b[39m seconds long\u001b[39m\u001b[39m\"\u001b[39m)\n",
      "File \u001b[1;32mc:\\Users\\fish\\anaconda3\\envs\\mygpt\\lib\\site-packages\\langchain\\document_loaders\\youtube.py:129\u001b[0m, in \u001b[0;36mYoutubeLoader.load\u001b[1;34m(self)\u001b[0m\n\u001b[0;32m    124\u001b[0m metadata \u001b[39m=\u001b[39m {\u001b[39m\"\u001b[39m\u001b[39msource\u001b[39m\u001b[39m\"\u001b[39m: \u001b[39mself\u001b[39m\u001b[39m.\u001b[39mvideo_id}\n\u001b[0;32m    126\u001b[0m \u001b[39mif\u001b[39;00m \u001b[39mself\u001b[39m\u001b[39m.\u001b[39madd_video_info:\n\u001b[0;32m    127\u001b[0m     \u001b[39m# Get more video meta info\u001b[39;00m\n\u001b[0;32m    128\u001b[0m     \u001b[39m# Such as title, description, thumbnail url, publish_date\u001b[39;00m\n\u001b[1;32m--> 129\u001b[0m     video_info \u001b[39m=\u001b[39m \u001b[39mself\u001b[39;49m\u001b[39m.\u001b[39;49m_get_video_info()\n\u001b[0;32m    130\u001b[0m     metadata\u001b[39m.\u001b[39mupdate(video_info)\n\u001b[0;32m    132\u001b[0m transcript_list \u001b[39m=\u001b[39m YouTubeTranscriptApi\u001b[39m.\u001b[39mlist_transcripts(\u001b[39mself\u001b[39m\u001b[39m.\u001b[39mvideo_id)\n",
      "File \u001b[1;32mc:\\Users\\fish\\anaconda3\\envs\\mygpt\\lib\\site-packages\\langchain\\document_loaders\\youtube.py:166\u001b[0m, in \u001b[0;36mYoutubeLoader._get_video_info\u001b[1;34m(self)\u001b[0m\n\u001b[0;32m    160\u001b[0m     \u001b[39mraise\u001b[39;00m \u001b[39mImportError\u001b[39;00m(\n\u001b[0;32m    161\u001b[0m         \u001b[39m\"\u001b[39m\u001b[39mCould not import pytube python package. \u001b[39m\u001b[39m\"\u001b[39m\n\u001b[0;32m    162\u001b[0m         \u001b[39m\"\u001b[39m\u001b[39mPlease install it with `pip install pytube`.\u001b[39m\u001b[39m\"\u001b[39m\n\u001b[0;32m    163\u001b[0m     )\n\u001b[0;32m    164\u001b[0m yt \u001b[39m=\u001b[39m YouTube(\u001b[39mf\u001b[39m\u001b[39m\"\u001b[39m\u001b[39mhttps://www.youtube.com/watch?v=\u001b[39m\u001b[39m{\u001b[39;00m\u001b[39mself\u001b[39m\u001b[39m.\u001b[39mvideo_id\u001b[39m}\u001b[39;00m\u001b[39m\"\u001b[39m)\n\u001b[0;32m    165\u001b[0m video_info \u001b[39m=\u001b[39m {\n\u001b[1;32m--> 166\u001b[0m     \u001b[39m\"\u001b[39m\u001b[39mtitle\u001b[39m\u001b[39m\"\u001b[39m: yt\u001b[39m.\u001b[39;49mtitle,\n\u001b[0;32m    167\u001b[0m     \u001b[39m\"\u001b[39m\u001b[39mdescription\u001b[39m\u001b[39m\"\u001b[39m: yt\u001b[39m.\u001b[39mdescription,\n\u001b[0;32m    168\u001b[0m     \u001b[39m\"\u001b[39m\u001b[39mview_count\u001b[39m\u001b[39m\"\u001b[39m: yt\u001b[39m.\u001b[39mviews,\n\u001b[0;32m    169\u001b[0m     \u001b[39m\"\u001b[39m\u001b[39mthumbnail_url\u001b[39m\u001b[39m\"\u001b[39m: yt\u001b[39m.\u001b[39mthumbnail_url,\n\u001b[0;32m    170\u001b[0m     \u001b[39m\"\u001b[39m\u001b[39mpublish_date\u001b[39m\u001b[39m\"\u001b[39m: yt\u001b[39m.\u001b[39mpublish_date,\n\u001b[0;32m    171\u001b[0m     \u001b[39m\"\u001b[39m\u001b[39mlength\u001b[39m\u001b[39m\"\u001b[39m: yt\u001b[39m.\u001b[39mlength,\n\u001b[0;32m    172\u001b[0m     \u001b[39m\"\u001b[39m\u001b[39mauthor\u001b[39m\u001b[39m\"\u001b[39m: yt\u001b[39m.\u001b[39mauthor,\n\u001b[0;32m    173\u001b[0m }\n\u001b[0;32m    174\u001b[0m \u001b[39mreturn\u001b[39;00m video_info\n",
      "File \u001b[1;32mc:\\Users\\fish\\anaconda3\\envs\\mygpt\\lib\\site-packages\\pytube\\__main__.py:346\u001b[0m, in \u001b[0;36mYouTube.title\u001b[1;34m(self)\u001b[0m\n\u001b[0;32m    342\u001b[0m \u001b[39mexcept\u001b[39;00m \u001b[39mKeyError\u001b[39;00m:\n\u001b[0;32m    343\u001b[0m     \u001b[39m# Check_availability will raise the correct exception in most cases\u001b[39;00m\n\u001b[0;32m    344\u001b[0m     \u001b[39m#  if it doesn't, ask for a report.\u001b[39;00m\n\u001b[0;32m    345\u001b[0m     \u001b[39mself\u001b[39m\u001b[39m.\u001b[39mcheck_availability()\n\u001b[1;32m--> 346\u001b[0m     \u001b[39mraise\u001b[39;00m exceptions\u001b[39m.\u001b[39mPytubeError(\n\u001b[0;32m    347\u001b[0m         (\n\u001b[0;32m    348\u001b[0m             \u001b[39mf\u001b[39m\u001b[39m'\u001b[39m\u001b[39mException while accessing title of \u001b[39m\u001b[39m{\u001b[39;00m\u001b[39mself\u001b[39m\u001b[39m.\u001b[39mwatch_url\u001b[39m}\u001b[39;00m\u001b[39m. \u001b[39m\u001b[39m'\u001b[39m\n\u001b[0;32m    349\u001b[0m             \u001b[39m'\u001b[39m\u001b[39mPlease file a bug report at https://github.com/pytube/pytube\u001b[39m\u001b[39m'\u001b[39m\n\u001b[0;32m    350\u001b[0m         )\n\u001b[0;32m    351\u001b[0m     )\n\u001b[0;32m    353\u001b[0m \u001b[39mreturn\u001b[39;00m \u001b[39mself\u001b[39m\u001b[39m.\u001b[39m_title\n",
      "\u001b[1;31mPytubeError\u001b[0m: Exception while accessing title of https://youtube.com/watch?v=EEbWRjavSVw. Please file a bug report at https://github.com/pytube/pytube"
     ]
    }
   ],
   "source": [
    "result = loader.load()\n",
    "print (f\"Found video from {result[0].metadata['author']} that is {result[0].metadata['length']} seconds long\")"
   ]
  },
  {
   "cell_type": "code",
   "execution_count": 30,
   "metadata": {},
   "outputs": [
    {
     "name": "stdout",
     "output_type": "stream",
     "text": [
      "[Document(page_content=\"foreign [Music] [Music] the radio is a smuggling code right 60s song they don't have anything new 70s they got new stuff what's Sadies oh the radio came on when you're sleeping what was the song they kept saying like wake me up before you go go gotcha Hades means trouble code broken listen [Music] ing well I I don't know how to swim seriously do you think we have pools in the QC no smart ass I mean I don't know how I was supposed to know that she so much as Twitches [Music] it's okay yes sir I would like your finest Suite please yes ma'am would you like me to check your luggage yes ma'am right away man I'm a weird kid you're a weird kid that's nice where'd you learn to do that the circus [Music] do you ever stay in a place like this uh no that a lot of our league I don't even know what this is have you heard of books where are you from [Music] what about Tess Detroit it's in Michigan I go to school I know where Detroit is how long do infected live no I thought you went to school it's a really shitty one I have a spare hand congratulations seeing this is just the two of us I was thinking I should probably what are you doing there's not much ammo out there for this thing makes it mostly useless I'm just gonna leave it there no [Music] there's a wall of them oh [\\xa0__\\xa0] hold on you look pretty bro over your thumb left hand squeezes down on the right look at it oh you put it in your pack [Music] shoot your damn ass off [Music] you're flinching the target's too small I made it bigger than I should have eject the cartridge [Music] not flinching rifle just sucks give it a deep breath in slow breath out you squeeze the trigger like you love it gentle steady nice and slow you're gonna shoot this thing or get it pregnant isn't gonna work it doesn't am right there's not gonna be anything bad in here just you oh funny is there anything bad in here just you ah getting funnier over there yeah I know it looks scary was scary wood get up you lazy ass believe me yes 56 years old you little [\\xa0__\\xa0] nice how does that work it's a siphon it's when liquid travels Against Gravity because pressure you don't know I know it works so that made electricity yeah don't ask me I don't have a clue so you could have just made something up I wouldn't believe you you don't seriously believe them we lived here a long time put that back starving I should have stolen two rabbits we can get our own rabbits you're gonna teach me out the hunt huh he's a girl she can't handle it handle the shooting not so sure about the dressing what's the dressing the part we take the guts out oh yeah why do they call it dressing it's like you should call it undressing because it is it's like undressing on the inside [Music] slow down this is slow what am I even eating that is 20 year old Chef Boyardee ravioli not garlic bread thank you man been a while since we've had a proper meal actually I don't think I've ever had a proper meal this is [\\xa0__\\xa0] amazing sorry Kelly mind our manners what what's wrong with you what about her manners she was just curious kids around here don't usually look or talk like you right well maybe I'll teach them and I want my gun back I'm just gonna have our guys kill us we got to be real careful about who we let in this place but it's all bark we're just trying to scare off those who might want to try us or something well you got a couple of nine-year-olds shooting themselves out there got a girl with him can I come down no what did I just say Joe come on they're like a thousand there's this little cycle never mind her I'm learning how to whistle you don't know how to whistle they sound like I know how to whistle no seriously though how the [\\xa0__\\xa0] do you do that you know what I'm in the mood for shitty puns it doesn't matter how much you push the envelope it'll still be stationary no pun intended volume two but we'll live next in volume two look you get it two like T-Mobile damn you're no will Livingston yeah yeah but who is what did the mermaid where did her math class I'm algae bra stayed up all night no wonder where the sun went and then it dawned on me feel free to wait in the truck okay but just know you can't escape while Livingston what did the green grape say to the purple grape crazy with it what is the Scarecrow get an award because it was outstanding in this field [Music] diarrhea is a wrench to this okay damn stupid you laughed [\\xa0__\\xa0] I didn't laugh yes you did Jesus I'm losing it you're losing a big time [Music] people are making apocalypse jokes like there's no tomorrow too soon no it's topical moon rocks tastes better than Earth rots why the meteor it's terrible that was actually good that's a zero out of ten all right can I have some no what just to warm up yeah so gross you can do anything you want where are you going what are you doing an old farmhouse some land a ranch cool what kind sheep they're quiet what they're told yeah yeah okay [Music] Hey Joe check it but I want a sheep Ranch actually I mean if the deal is I can do anything that's the deal when I was a kid I wanted to be a singer why is that funny it's doing something now no come on now I'm not gonna laugh you're already laughing I want to save the [\\xa0__\\xa0] world man that's the least you can get for me fair enough here let's make you all nostalgic foreign oh I'm Joe Joe say congrats [Music] congrats sir right on the reading but it has some interesting pictures no no no put that back that's not for kids please get rid of it who's your horses I want to see what all the fuss is about [Music] why are all these Pages stuck together uh [Music] I'm just [\\xa0__\\xa0] with you it's your first time in a car it's like a spaceship see Bill foreign car man they have hot water I'm taking a shower and then you're showering because seriously foreign\", metadata={'source': 'Bunm7Fo18J0', 'title': 'funniest joel & ellie moments ~ the last of us', 'description': 'I want 7 seasons with them going on adventures (and therapy) while every 10 minutes Ellie is telling bad puns to make Joel laugh\\n.\\n#tlou #thelastofus #joelmiller #elliewilliams #bellaramsey #pedropascal #hbomax #hbo \\n.\\n.\\nedit: CapCut', 'view_count': 194670, 'thumbnail_url': 'https://i.ytimg.com/vi/Bunm7Fo18J0/sddefault.jpg', 'publish_date': datetime.datetime(2023, 3, 14, 0, 0), 'length': 674, 'author': \"stuff I'm obsessed with\"})]\n"
     ]
    }
   ],
   "source": [
    "print(result)"
   ]
  },
  {
   "cell_type": "code",
   "execution_count": 31,
   "metadata": {},
   "outputs": [
    {
     "name": "stderr",
     "output_type": "stream",
     "text": [
      "Retrying langchain.llms.openai.completion_with_retry.<locals>._completion_with_retry in 4.0 seconds as it raised APIConnectionError: Error communicating with OpenAI: ('Connection aborted.', ConnectionResetError(10054, '遠端主機已強制關閉一個現存的連線。', None, 10054, None)).\n"
     ]
    },
    {
     "data": {
      "text/plain": [
       "\" Joe and Kelly are on a journey and encounter various people and places. They discuss topics such as music, smuggling, hunting, electricity, and puns. They also encounter a farmhouse with sheep, a car, and a foreign car with hot water. Joe is learning how to whistle and Kelly is learning how to shoot. They also discuss the apocalypse and Joe's dream of saving the world.\""
      ]
     },
     "execution_count": 31,
     "metadata": {},
     "output_type": "execute_result"
    }
   ],
   "source": [
    "chain.run(result)"
   ]
  }
 ],
 "metadata": {
  "kernelspec": {
   "display_name": "mygpt",
   "language": "python",
   "name": "python3"
  },
  "language_info": {
   "codemirror_mode": {
    "name": "ipython",
    "version": 3
   },
   "file_extension": ".py",
   "mimetype": "text/x-python",
   "name": "python",
   "nbconvert_exporter": "python",
   "pygments_lexer": "ipython3",
   "version": "3.9.16"
  },
  "orig_nbformat": 4
 },
 "nbformat": 4,
 "nbformat_minor": 2
}
