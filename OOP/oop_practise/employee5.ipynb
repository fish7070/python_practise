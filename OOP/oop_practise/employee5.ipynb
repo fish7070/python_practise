{
 "cells": [
  {
   "cell_type": "code",
   "execution_count": 2,
   "metadata": {},
   "outputs": [
    {
     "name": "stdout",
     "output_type": "stream",
     "text": [
      "John Doe\n"
     ]
    }
   ],
   "source": [
    "#以下程式碼用 chatgpt_easycode 產生\n",
    "#prompt 請用 python 幫我寫一個叫 Employee 的 class 他有 first、last、pay、email 這幾個屬性\n",
    "#prompt 幫我把 __str__ 方法改名叫 fullname\n",
    "#prompt 幫我再加兩個變數 num_of_emps、raise_amount，和一個方法 apply_raise，這個方法會將 pay 改成 pay*raise_amount\n",
    "#prompt 我想將 raise_amount 改名成 raise_amt ，移除 num_of_emps 變數，新增四個方法 __repr__、__str__、__add__、__len__\n",
    "\n",
    "class Employee:\n",
    "    raise_amt = 1.04\n",
    "\n",
    "    def __init__(self, first, last, pay):\n",
    "        self.first = first\n",
    "        self.last = last\n",
    "        self.pay = pay\n",
    "        self.email = f\"{first}.{last}@company.com\"\n",
    "\n",
    "    def fullname(self):\n",
    "        return f\"{self.first} {self.last}\"\n",
    "\n",
    "    def apply_raise(self):\n",
    "        self.pay = int(self.pay * self.raise_amt)\n",
    "\n",
    "    def __repr__(self):\n",
    "        return f\"Employee('{self.first}', '{self.last}', {self.pay})\"\n",
    "\n",
    "    def __str__(self):\n",
    "        return self.fullname()\n",
    "\n",
    "    def __add__(self, other):\n",
    "        return self.pay + other.pay\n",
    "\n",
    "    def __len__(self):\n",
    "        return len(self.fullname())\n",
    "\n",
    "emp1 = Employee(\"John\", \"Doe\", 50000)\n",
    "emp2 = Employee(\"Jane\", \"Smith\", 60000)\n",
    "\n",
    "print(emp1)\n",
    "print(repr(emp1))\n",
    "print(emp1 + emp2)\n",
    "print(len(emp1))"
   ]
  }
 ],
 "metadata": {
  "kernelspec": {
   "display_name": "ComputerVision",
   "language": "python",
   "name": "python3"
  },
  "language_info": {
   "codemirror_mode": {
    "name": "ipython",
    "version": 3
   },
   "file_extension": ".py",
   "mimetype": "text/x-python",
   "name": "python",
   "nbconvert_exporter": "python",
   "pygments_lexer": "ipython3",
   "version": "3.10.8"
  },
  "orig_nbformat": 4
 },
 "nbformat": 4,
 "nbformat_minor": 2
}
