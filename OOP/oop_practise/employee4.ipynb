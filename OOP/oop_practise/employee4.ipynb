{
 "cells": [
  {
   "cell_type": "code",
   "execution_count": 2,
   "metadata": {},
   "outputs": [
    {
     "name": "stdout",
     "output_type": "stream",
     "text": [
      "John Doe\n"
     ]
    }
   ],
   "source": [
    "#以下程式碼用 chatgpt_easycode 產生\n",
    "#prompt 請用 python 幫我寫一個叫 Employee 的 class 他有 first、last、pay、email 這幾個屬性\n",
    "#prompt 幫我把 __str__ 方法改名叫 fullname\n",
    "#prompt 幫我再加兩個變數 num_of_emps、raise_amount，和一個方法 apply_raise，這個方法會將 pay 改成 pay*raise_amount\n",
    "#prompt 我想將 raise_amount 改名成 raise_amt ，移除 num_of_emps 變數，再新增兩個 class 叫做 Developer、Manager，都繼承 Employee ，在 Developer 會將 raise_amt 改為 1.10，有一個自己的變數叫做 prog_lang， Manager 有三個方法 add_emp、remove_emp、print_emps\n",
    "\n",
    "class Employee:\n",
    "    raise_amt = 1.04\n",
    "\n",
    "    def __init__(self, first, last, pay):\n",
    "        self.first = first\n",
    "        self.last = last\n",
    "        self.pay = pay\n",
    "        self.email = f\"{first}.{last}@company.com\"\n",
    "\n",
    "    def fullname(self):\n",
    "        return f\"{self.first} {self.last}\"\n",
    "\n",
    "    def apply_raise(self):\n",
    "        self.pay = int(self.pay * self.raise_amt)\n",
    "\n",
    "\n",
    "class Developer(Employee):\n",
    "    raise_amt = 1.10\n",
    "\n",
    "    def __init__(self, first, last, pay, prog_lang):\n",
    "        super().__init__(first, last, pay)\n",
    "        self.prog_lang = prog_lang\n",
    "\n",
    "\n",
    "class Manager(Employee):\n",
    "    def __init__(self, first, last, pay, employees=None):\n",
    "        super().__init__(first, last, pay)\n",
    "        if employees is None:\n",
    "            self.employees = []\n",
    "        else:\n",
    "            self.employees = employees\n",
    "\n",
    "    def add_emp(self, emp):\n",
    "        if emp not in self.employees:\n",
    "            self.employees.append(emp)\n",
    "\n",
    "    def remove_emp(self, emp):\n",
    "        if emp in self.employees:\n",
    "            self.employees.remove(emp)\n",
    "\n",
    "    def print_emps(self):\n",
    "        for emp in self.employees:\n",
    "            print(\"-->\", emp.fullname())\n",
    "\n",
    "\n",
    "dev1 = Developer(\"John\", \"Doe\", 50000, \"Python\")\n",
    "dev2 = Developer(\"Jane\", \"Smith\", 60000, \"Java\")\n",
    "\n",
    "mgr1 = Manager(\"Sue\", \"Smith\", 90000, [dev1])\n",
    "\n",
    "print(dev1.pay)\n",
    "dev1.apply_raise()\n",
    "print(dev1.pay)\n",
    "print(dev1.prog_lang)\n",
    "\n",
    "mgr1.add_emp(dev2)\n",
    "mgr1.remove_emp(dev1)\n",
    "mgr1.print_emps()\n"
   ]
  }
 ],
 "metadata": {
  "kernelspec": {
   "display_name": "ComputerVision",
   "language": "python",
   "name": "python3"
  },
  "language_info": {
   "codemirror_mode": {
    "name": "ipython",
    "version": 3
   },
   "file_extension": ".py",
   "mimetype": "text/x-python",
   "name": "python",
   "nbconvert_exporter": "python",
   "pygments_lexer": "ipython3",
   "version": "3.10.8"
  },
  "orig_nbformat": 4
 },
 "nbformat": 4,
 "nbformat_minor": 2
}
