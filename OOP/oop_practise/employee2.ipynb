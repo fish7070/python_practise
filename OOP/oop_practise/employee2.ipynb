{
 "cells": [
  {
   "cell_type": "code",
   "execution_count": 2,
   "metadata": {},
   "outputs": [
    {
     "name": "stdout",
     "output_type": "stream",
     "text": [
      "John Doe\n"
     ]
    }
   ],
   "source": [
    "#以下程式碼用 chatgpt_easycode 產生\n",
    "#prompt 請用 python 幫我寫一個叫 Employee 的 class 他有 first、last、pay、email 這幾個屬性\n",
    "#prompt 幫我把 __str__ 方法改名叫 fullname\n",
    "#prompt 幫我再加兩個變數 num_of_emps、raise_amount，和一個方法 apply_raise，這個方法會將 pay 改成 pay*raise_amount\n",
    "\n",
    "class Employee:\n",
    "    num_of_emps = 0\n",
    "    raise_amount = 1.04\n",
    "\n",
    "    def __init__(self, first, last, pay):\n",
    "        self.first = first\n",
    "        self.last = last\n",
    "        self.pay = pay\n",
    "        self.email = f\"{first}.{last}@company.com\"\n",
    "        Employee.num_of_emps += 1\n",
    "\n",
    "    def fullname(self):\n",
    "        return f\"{self.first} {self.last}\"\n",
    "\n",
    "    def apply_raise(self):\n",
    "        self.pay = int(self.pay * self.raise_amount)\n",
    "\n",
    "print(Employee.num_of_emps)\n",
    "\n",
    "emp1 = Employee(\"John\", \"Doe\", 50000)\n",
    "emp2 = Employee(\"Jane\", \"Smith\", 60000)\n",
    "\n",
    "print(Employee.num_of_emps)"
   ]
  }
 ],
 "metadata": {
  "kernelspec": {
   "display_name": "ComputerVision",
   "language": "python",
   "name": "python3"
  },
  "language_info": {
   "codemirror_mode": {
    "name": "ipython",
    "version": 3
   },
   "file_extension": ".py",
   "mimetype": "text/x-python",
   "name": "python",
   "nbconvert_exporter": "python",
   "pygments_lexer": "ipython3",
   "version": "3.10.8"
  },
  "orig_nbformat": 4
 },
 "nbformat": 4,
 "nbformat_minor": 2
}
