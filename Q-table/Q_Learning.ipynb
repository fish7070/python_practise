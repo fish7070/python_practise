{
 "cells": [
  {
   "cell_type": "code",
   "execution_count": 504,
   "metadata": {},
   "outputs": [],
   "source": [
    "import numpy as np\n",
    "import pandas as pd\n",
    "import matplotlib.pyplot as plt\n",
    "import seaborn as sns"
   ]
  },
  {
   "cell_type": "code",
   "execution_count": 505,
   "metadata": {},
   "outputs": [],
   "source": [
    "class Q_table:\n",
    "    \n",
    "    def __init__(self, environment, actions, epsilon, discount_rate, learning_rate):\n",
    "        self.rewards = environment\n",
    "        self.environment_rows = len(environment)\n",
    "        self.environment_columns = len(environment[0])\n",
    "        self.actions = actions\n",
    "        self.q_values = np.zeros((len(environment), len(environment[0]), len(actions)))\n",
    "        self.epsilon = epsilon\n",
    "        self.discount_rate = discount_rate\n",
    "        self.learning_rate = learning_rate\n",
    "\n",
    "    def set_epsilon(self, epsilon):\n",
    "        self.epsilon = epsilon\n",
    "        print(\"now epsilon = \" + epsilon)\n",
    "\n",
    "    def set_discount_rate(self, discount_rate):\n",
    "        self.discount_rate = discount_rate\n",
    "        print(\"now discount_rate = \" + discount_rate)\n",
    "\n",
    "    def set_learning_rate(self, learning_rate):\n",
    "        self.learning_rate = learning_rate\n",
    "        print(\"now learning_rate = \" + learning_rate)\n",
    "\n",
    "    #確認是否為結算點(非結算點 rewards 還沒想到要怎麼定義)\n",
    "    def check_terminal_state(self, current_row_index, current_column_index):\n",
    "        if self.rewards[current_row_index, current_column_index] == -1:\n",
    "            return False\n",
    "        else:\n",
    "            return True\n",
    "    \n",
    "    def get_next_action(self, current_row_index, current_column_index, epsilon):\n",
    "\n",
    "        #根據 epsilon 決定是否做分數最高的動作\n",
    "        if np.random.uniform(0, 1) < epsilon :\n",
    "            return np.argmax(self.q_values[current_row_index, current_column_index])\n",
    "        else:\n",
    "            return np.random.randint(0, 4)\n",
    "\n",
    "    #取得下一個狀態\n",
    "    def get_next_state(self, current_row_index, current_column_index, actionsIndex):\n",
    "        new_row_index = current_row_index\n",
    "        new_column_index = current_column_index\n",
    "\n",
    "        #判斷動作及是否超出邊界\n",
    "        if self.actions[actionsIndex] == 'up' and current_row_index > 0:\n",
    "            new_row_index -= 1\n",
    "        elif self.actions[actionsIndex] == 'right' and current_column_index < self.environment_columns-1:\n",
    "            new_column_index += 1\n",
    "        elif self.actions[actionsIndex] == 'down' and current_row_index < self.environment_rows-1:\n",
    "            new_row_index += 1\n",
    "        elif self.actions[actionsIndex] == 'left' and current_column_index > 0:\n",
    "            new_column_index -= 1\n",
    "\n",
    "        return new_row_index, new_column_index\n",
    "\n",
    "    #取得初始狀態\n",
    "    def get_start_state(self):\n",
    "        start_row_index = np.random.randint(self.environment_rows)\n",
    "        start_column_index = np.random.randint(self.environment_columns)\n",
    "        \n",
    "        #確保初始狀態不是結算點\n",
    "        while self.check_terminal_state(start_row_index, start_column_index):\n",
    "            start_row_index = np.random.randint(self.environment_rows)\n",
    "            start_column_index = np.random.randint(self.environment_columns)\n",
    "\n",
    "        return start_row_index, start_column_index\n",
    "\n",
    "    #取得根據 q_values 得出的最短路徑\n",
    "    def get_shortest_path(self, start_row_index, start_column_index):\n",
    "        \n",
    "        if self.check_terminal_state(start_row_index, start_column_index):\n",
    "            print(start_row_index, start_row_index, \"is terminal state\")\n",
    "            return []\n",
    "        \n",
    "        row_index = start_row_index\n",
    "        column_index = start_column_index\n",
    "        shortest_path = []\n",
    "        shortest_path.append([row_index, column_index])\n",
    "\n",
    "        while not self.check_terminal_state(row_index, column_index):\n",
    "            action = self.get_next_action(row_index, column_index, 1)\n",
    "            row_index, column_index = self.get_next_state(row_index, column_index, action)\n",
    "            shortest_path.append([row_index, column_index])\n",
    "\n",
    "        return shortest_path\n",
    "    \n",
    "    def start_training(self, time):\n",
    "        for episode in range(time):\n",
    "  \n",
    "            row_index, column_index = self.get_start_state()\n",
    "\n",
    "            while not self.check_terminal_state(row_index, column_index):\n",
    "                \n",
    "                action_index = self.get_next_action(row_index, column_index, self.epsilon)\n",
    "\n",
    "                old_row_index, old_column_index = row_index, column_index\n",
    "                row_index, column_index = self.get_next_state(row_index, column_index, action_index)\n",
    "                \n",
    "                reward = self.rewards[row_index, column_index]\n",
    "                old_q_value = self.q_values[old_row_index, old_column_index, action_index]\n",
    "\n",
    "\n",
    "                temporal_difference = reward + (self.discount_rate * np.max(self.q_values[row_index, column_index])) - old_q_value\n",
    "\n",
    "                new_q_value = old_q_value + (self.learning_rate * temporal_difference)\n",
    "                self.q_values[old_row_index, old_column_index, action_index] = new_q_value\n",
    "\n",
    "        print('Training complete!')\n",
    "\n",
    "    #顯示 q_values\n",
    "    def show_q_values(self):\n",
    "        \n",
    "        #將 q_values 整理成二維陣列\n",
    "        actions_values = []\n",
    "        for i in range(11):\n",
    "            for j in range(11):\n",
    "                actions_values.append(self.q_values[i][j])\n",
    "\n",
    "        #塞資料進表格\n",
    "        df = pd.DataFrame(actions_values)\n",
    "\n",
    "        #生成表格的 index\n",
    "        row_column_index = []\n",
    "        for i in range(11):\n",
    "            for j in range(11):\n",
    "                row_column_index.append(\"state (\" + str(i) + \" , \" + str(j) + \")\")\n",
    "\n",
    "        #塞 index, columns 進表格\n",
    "        df.index = row_column_index\n",
    "        df.columns = self.actions\n",
    "\n",
    "        #設定表格並顯示\n",
    "        plt.figure('123')            \n",
    "        ax = plt.axes(frame_on=False)\n",
    "        ax.xaxis.set_visible(False)  \n",
    "        ax.yaxis.set_visible(False)  \n",
    "        pd.plotting.table(ax, df, loc='center') \n",
    "        plt.show()\n",
    "\n",
    "    #顯示 rewards\n",
    "    def show_rewards(self):\n",
    "        sns.heatmap(self.rewards,vmax=100,vmin= -100, cmap = \"RdBu_r\",fmt= \"g\", linewidths= 0.3 , annot= True)\n",
    "        plt.plot() \n",
    "        plt.show()\n",
    "\n",
    "    #顯示最短路徑\n",
    "    def show_path(self, path):\n",
    "        path_table = np.copy(self.rewards)\n",
    "\n",
    "        for i in range(len(path)):\n",
    "            \n",
    "            path_table[path[i][0]][path[i][1]] = 50\n",
    "\n",
    "            if i == len(path)-1:\n",
    "                path_table[path[i][0]][path[i][1]] = 100\n",
    "        \n",
    "        sns.heatmap(path_table,vmax=100,vmin= -100,cmap = \"RdBu_r\",linewidths= 0.3)\n",
    "        plt.plot()\n",
    "        plt.show()\n"
   ]
  },
  {
   "cell_type": "code",
   "execution_count": 506,
   "metadata": {},
   "outputs": [],
   "source": [
    "actions = ['up', 'right', 'down', 'left']\n",
    "\n",
    "rewards = np.full((11, 11), -100.)\n",
    "rewards[0, 5] = 100. \n",
    "\n",
    "aisles = {}\n",
    "aisles[1] = [i for i in range(1, 10)]\n",
    "aisles[2] = [1, 7, 9]\n",
    "aisles[3] = [i for i in range(1, 8)]\n",
    "aisles[3].append(9)\n",
    "aisles[4] = [3, 7]\n",
    "aisles[5] = [i for i in range(11)]\n",
    "aisles[6] = [5]\n",
    "aisles[7] = [i for i in range(1, 10)]\n",
    "aisles[8] = [3, 7]\n",
    "aisles[9] = [i for i in range(11)]\n",
    "\n",
    "for row_index in range(1, 10):\n",
    "  for column_index in aisles[row_index]:\n",
    "    rewards[row_index, column_index] = -1."
   ]
  },
  {
   "attachments": {},
   "cell_type": "markdown",
   "metadata": {},
   "source": [
    "![warehouse map](https://www.danielsoper.com/teaching/img/08-warehouse-map.png) ![warehouse map](https://www.danielsoper.com/teaching/img/08-warehouse-map-rewards.png)"
   ]
  },
  {
   "cell_type": "code",
   "execution_count": 507,
   "metadata": {},
   "outputs": [
    {
     "name": "stdout",
     "output_type": "stream",
     "text": [
      "Training complete!\n"
     ]
    }
   ],
   "source": [
    "table = Q_table(rewards, actions, 0.9, 0.9, 0.9)\n",
    "table.start_training(1000)"
   ]
  },
  {
   "cell_type": "code",
   "execution_count": 509,
   "metadata": {},
   "outputs": [
    {
     "name": "stdout",
     "output_type": "stream",
     "text": [
      "shortest_path：\n",
      "start = 1 3\n",
      "[[1, 3], [1, 4], [1, 5], [0, 5]]\n"
     ]
    },
    {
     "data": {
      "image/png": "[encoded data removed]",
      "text/plain": [
       "<Figure size 640x480 with 2 Axes>"
      ]
     },
     "metadata": {},
     "output_type": "display_data"
    },
    {
     "data": {
      "image/png": "[encoded data removed]",
      "text/plain": [
       "<Figure size 640x480 with 2 Axes>"
      ]
     },
     "metadata": {},
     "output_type": "display_data"
    }
   ],
   "source": [
    "row, column = table.get_start_state()\n",
    "print(\"shortest_path：\")\n",
    "print(\"start =\", row, column)\n",
    "path = table.get_shortest_path(row, column)\n",
    "print(path)\n",
    "table.show_path(path)\n",
    "table.show_rewards()"
   ]
  }
 ],
 "metadata": {
  "kernelspec": {
   "display_name": "ComputerVision",
   "language": "python",
   "name": "python3"
  },
  "language_info": {
   "codemirror_mode": {
    "name": "ipython",
    "version": 3
   },
   "file_extension": ".py",
   "mimetype": "text/x-python",
   "name": "python",
   "nbconvert_exporter": "python",
   "pygments_lexer": "ipython3",
   "version": "3.10.8"
  },
  "orig_nbformat": 4
 },
 "nbformat": 4,
 "nbformat_minor": 2
}
