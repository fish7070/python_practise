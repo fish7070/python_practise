{
 "cells": [
  {
   "cell_type": "code",
   "execution_count": 1,
   "metadata": {},
   "outputs": [
    {
     "name": "stdout",
     "output_type": "stream",
     "text": [
      "True\n",
      "更新後的資料\n"
     ]
    }
   ],
   "source": [
    "class Singleton:\n",
    "    _instance = None\n",
    "\n",
    "    def __new__(cls):\n",
    "        if cls._instance is None:\n",
    "            cls._instance = super().__new__(cls)\n",
    "        return cls._instance\n",
    "\n",
    "    def __init__(self):\n",
    "        self.some_data = \"單例模式範例\"\n",
    "\n",
    "\n",
    "# 使用單例模式創建對象\n",
    "singleton1 = Singleton()\n",
    "singleton2 = Singleton()\n",
    "\n",
    "# 驗證兩個對象是否相同\n",
    "print(singleton1 is singleton2)  # 輸出 True，表示兩個對象是同一個實例\n",
    "\n",
    "singleton1.some_data = \"更新後的資料\"\n",
    "print(singleton2.some_data)  # 輸出 \"更新後的資料\"，表示兩個對象共享相同的資料\n"
   ]
  },
  {
   "cell_type": "code",
   "execution_count": 5,
   "metadata": {},
   "outputs": [
    {
     "ename": "TypeError",
     "evalue": "create_animals() missing 1 required positional argument: 'names'",
     "output_type": "error",
     "traceback": [
      "\u001b[1;31m---------------------------------------------------------------------------\u001b[0m",
      "\u001b[1;31mTypeError\u001b[0m                                 Traceback (most recent call last)",
      "Cell \u001b[1;32mIn[5], line 39\u001b[0m\n\u001b[0;32m     36\u001b[0m factory \u001b[39m=\u001b[39m AnimalFactory()\n\u001b[0;32m     38\u001b[0m \u001b[39m# 使用工廠創建多個動物對象\u001b[39;00m\n\u001b[1;32m---> 39\u001b[0m dogs \u001b[39m=\u001b[39m factory\u001b[39m.\u001b[39;49mcreate_animals(\u001b[39m\"\u001b[39;49m\u001b[39mDog\u001b[39;49m\u001b[39m\"\u001b[39;49m, \u001b[39m3\u001b[39;49m)\n\u001b[0;32m     40\u001b[0m cats \u001b[39m=\u001b[39m factory\u001b[39m.\u001b[39mcreate_animals(\u001b[39m\"\u001b[39m\u001b[39mCat\u001b[39m\u001b[39m\"\u001b[39m, \u001b[39m2\u001b[39m, [\u001b[39m\"\u001b[39m\u001b[39m咪咪\u001b[39m\u001b[39m\"\u001b[39m, \u001b[39m\"\u001b[39m\u001b[39m花花\u001b[39m\u001b[39m\"\u001b[39m])\n\u001b[0;32m     42\u001b[0m \u001b[39m# 測試動物對象的行為\u001b[39;00m\n",
      "\u001b[1;31mTypeError\u001b[0m: create_animals() missing 1 required positional argument: 'names'"
     ]
    }
   ],
   "source": [
    "class Animal:\n",
    "    def __init__(self, name):\n",
    "        self.name = name\n",
    "\n",
    "    def speak(self):\n",
    "        pass\n",
    "\n",
    "\n",
    "class Dog(Animal):\n",
    "    def speak(self):\n",
    "        return f\"{self.name} 說：汪汪汪\"\n",
    "\n",
    "\n",
    "class Cat(Animal):\n",
    "    def speak(self):\n",
    "        return f\"{self.name} 說：喵喵喵\"\n",
    "\n",
    "\n",
    "class AnimalFactory:\n",
    "    def create_animal(self, animal_type, name):\n",
    "        if animal_type == \"Dog\":\n",
    "            return Dog(name)\n",
    "        elif animal_type == \"Cat\":\n",
    "            return Cat(name)\n",
    "        else:\n",
    "            raise ValueError(\"無效的動物類型\")\n",
    "\n",
    "    def create_animals(self, animal_type, num, names):\n",
    "        animals = []\n",
    "        for i in range(num):\n",
    "            animals.append(self.create_animal(animal_type, names[i]))\n",
    "        return animals\n",
    "\n",
    "\n",
    "# 創建工廠對象\n",
    "factory = AnimalFactory()\n",
    "\n",
    "# 使用工廠創建多個動物對象\n",
    "dogs = factory.create_animals(\"Dog\", 3, [\"旺財\", \"大黃\", \"小白\"])\n",
    "cats = factory.create_animals(\"Cat\", 2, [\"咪咪\", \"花花\"])\n",
    "\n",
    "# 測試動物對象的行為\n",
    "for dog in dogs:\n",
    "    print(dog.speak())  # 輸出：\"{狗的名字} 說：汪汪汪\"\n",
    "\n",
    "for cat in cats:\n",
    "    print(cat.speak())  # 輸出：\"{貓的名字} 說：喵喵喵\"\n"
   ]
  },
  {
   "cell_type": "code",
   "execution_count": 6,
   "metadata": {},
   "outputs": [
    {
     "name": "stdout",
     "output_type": "stream",
     "text": [
      "Dog1 說：汪汪汪\n",
      "Dog2 說：汪汪汪\n",
      "Dog3 說：汪汪汪\n",
      "咪咪 說：喵喵喵\n",
      "花花 說：喵喵喵\n"
     ]
    }
   ],
   "source": [
    "class Animal:\n",
    "    def __init__(self, name):\n",
    "        self.name = name\n",
    "\n",
    "    def speak(self):\n",
    "        pass\n",
    "\n",
    "\n",
    "class Dog(Animal):\n",
    "    def speak(self):\n",
    "        return f\"{self.name} 說：汪汪汪\"\n",
    "\n",
    "\n",
    "class Cat(Animal):\n",
    "    def speak(self):\n",
    "        return f\"{self.name} 說：喵喵喵\"\n",
    "\n",
    "\n",
    "class AnimalFactory:\n",
    "    def create_animal(self, animal_type, name):\n",
    "        if animal_type == \"Dog\":\n",
    "            return Dog(name)\n",
    "        elif animal_type == \"Cat\":\n",
    "            return Cat(name)\n",
    "        else:\n",
    "            raise ValueError(\"無效的動物類型\")\n",
    "\n",
    "    def create_animals(self, animal_type, num, names=None):\n",
    "        if names is None:\n",
    "            names = [f\"{animal_type}{i+1}\" for i in range(num)]\n",
    "\n",
    "        animals = []\n",
    "        for i in range(num):\n",
    "            animals.append(self.create_animal(animal_type, names[i]))\n",
    "        return animals\n",
    "\n",
    "\n",
    "# 創建工廠對象\n",
    "factory = AnimalFactory()\n",
    "\n",
    "# 使用工廠創建多個動物對象\n",
    "dogs = factory.create_animals(\"Dog\", 3)\n",
    "cats = factory.create_animals(\"Cat\", 2, [\"咪咪\", \"花花\"])\n",
    "\n",
    "# 測試動物對象的行為\n",
    "for dog in dogs:\n",
    "    print(dog.speak())  # 輸出：\"{狗的名字} 說：汪汪汪\"\n",
    "\n",
    "for cat in cats:\n",
    "    print(cat.speak())  # 輸出：\"{貓的名字} 說：喵喵喵\"\n"
   ]
  }
 ],
 "metadata": {
  "kernelspec": {
   "display_name": "mygpt",
   "language": "python",
   "name": "python3"
  },
  "language_info": {
   "codemirror_mode": {
    "name": "ipython",
    "version": 3
   },
   "file_extension": ".py",
   "mimetype": "text/x-python",
   "name": "python",
   "nbconvert_exporter": "python",
   "pygments_lexer": "ipython3",
   "version": "3.9.16"
  },
  "orig_nbformat": 4
 },
 "nbformat": 4,
 "nbformat_minor": 2
}
